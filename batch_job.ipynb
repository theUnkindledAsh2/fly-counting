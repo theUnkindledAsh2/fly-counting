{
 "cells": [
  {
   "cell_type": "code",
   "execution_count": 4,
   "id": "eedd061a",
   "metadata": {},
   "outputs": [
    {
     "name": "stdout",
     "output_type": "stream",
     "text": [
      "Job 2143.mov complete. Time spent 0:41\n",
      "Job 2151.mov complete. Time spent 0:48\n",
      "Job 1694.mov complete. Time spent 0:50\n"
     ]
    }
   ],
   "source": [
    "import subprocess\n",
    "import os\n",
    "import time\n",
    "\n",
    "\n",
    "def format_time(seconds):\n",
    "    minutes, seconds = divmod(int(seconds), 60)\n",
    "    return f\"{minutes}:{seconds}\"\n",
    "\n",
    "video_folder = '/Users/zhangxucheng/CF/video'\n",
    "\n",
    "for filename in os.listdir(video_folder):\n",
    "    if filename.endswith('.mov'):\n",
    "        filepath = os.path.join(video_folder, filename)\n",
    "        \n",
    "        start_time = time.time()\n",
    "        env = os.environ.copy()\n",
    "        env['VIDEO_PATH'] = filepath\n",
    "        \n",
    "        try:\n",
    "            result = subprocess.run([\"jupyter\", \"nbconvert\", \"--to\", \"notebook\", \"--execute\", \"count_flies.ipynb\"], env=env, check=True, stderr=subprocess.PIPE, text=True)\n",
    "        except subprocess.CalledProcessError as e:\n",
    "            print(f\"JOB {filename} ERROR：\\n{e.stderr}\")\n",
    "            continue\n",
    "\n",
    "        elapsed_time = time.time() - start_time\n",
    "        formatted_time = format_time(elapsed_time)\n",
    "        \n",
    "        print(f\"Job \\[{filename}\\] complete. Time spent {formatted_time}\")\n",
    "\n"
   ]
  },
  {
   "cell_type": "code",
   "execution_count": null,
   "id": "14ff19f4",
   "metadata": {},
   "outputs": [],
   "source": []
  }
 ],
 "metadata": {
  "kernelspec": {
   "display_name": "Python 3 (ipykernel)",
   "language": "python",
   "name": "python3"
  },
  "language_info": {
   "codemirror_mode": {
    "name": "ipython",
    "version": 3
   },
   "file_extension": ".py",
   "mimetype": "text/x-python",
   "name": "python",
   "nbconvert_exporter": "python",
   "pygments_lexer": "ipython3",
   "version": "3.10.9"
  }
 },
 "nbformat": 4,
 "nbformat_minor": 5
}
